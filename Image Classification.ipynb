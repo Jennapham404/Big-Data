{
 "cells": [
  {
   "cell_type": "markdown",
   "id": "4f3e1269",
   "metadata": {},
   "source": [
    "### Machine Learning for Image Classification"
   ]
  },
  {
   "cell_type": "markdown",
   "id": "97383dba",
   "metadata": {},
   "source": [
    "In this project, we focus on implementing a function 'build_deep_nn' that trains and evaluates a deep learning classifier on the MNIST dataset.\n",
    "\n",
    "The MNIST database is a large database of handwritten digits that is commonly used for training various image processing systems.\n",
    "\n",
    "Then, we use 'keras_tuner' to define the optimal parameters of the network model."
   ]
  },
  {
   "cell_type": "code",
   "execution_count": 1,
   "id": "990d4caf",
   "metadata": {},
   "outputs": [
    {
     "name": "stdout",
     "output_type": "stream",
     "text": [
      "TensorFlow version: 2.9.1\n"
     ]
    }
   ],
   "source": [
    "import tensorflow as tf\n",
    "print(\"TensorFlow version:\", tf.__version__)"
   ]
  },
  {
   "cell_type": "code",
   "execution_count": 2,
   "id": "e4f42626",
   "metadata": {},
   "outputs": [
    {
     "data": {
      "text/plain": [
       "[PhysicalDevice(name='/physical_device:CPU:0', device_type='CPU')]"
      ]
     },
     "execution_count": 2,
     "metadata": {},
     "output_type": "execute_result"
    }
   ],
   "source": [
    "import numpy as np\n",
    "from matplotlib import pyplot as plt\n",
    "import keras\n",
    "import unittest\n",
    "from tensorflow.keras.models import Sequential\n",
    "from tensorflow.keras.layers import Flatten, Dense, Dropout\n",
    "tf.config.experimental.list_physical_devices()"
   ]
  },
  {
   "cell_type": "code",
   "execution_count": 3,
   "id": "0f85b88a",
   "metadata": {},
   "outputs": [
    {
     "data": {
      "text/plain": [
       "'2.9.0'"
      ]
     },
     "execution_count": 3,
     "metadata": {},
     "output_type": "execute_result"
    }
   ],
   "source": [
    "keras.__version__"
   ]
  },
  {
   "cell_type": "markdown",
   "id": "efbd6420",
   "metadata": {},
   "source": [
    "### Use a function 'image_statistics' to compute a statistics about the image with the assumption that the image is a colour image with three channels.\n",
    "The image_statistics function takes two arguments: 'image' and 'darkness'. Of which, 'darkness' is the threshold value of darkness level of the image.\n",
    "\n",
    "We will have the image statistics with two keys: 'resolution' which is the resolution of the image and 'dark_pixels' which is the number of dark pixels in each channel of the image."
   ]
  },
  {
   "cell_type": "code",
   "execution_count": 4,
   "id": "b80b60ae",
   "metadata": {},
   "outputs": [
    {
     "name": "stdout",
     "output_type": "stream",
     "text": [
      "<module 'a1' from '/Users/pct404/Library/CloudStorage/OneDrive-MacquarieUniversity/BA MASTER/S4/COMP 6420 - AI in Text and Vision/AI in Text & Vision/assignment1-Jenna404/a1.py'>\n"
     ]
    }
   ],
   "source": [
    "import a1\n",
    "print(a1)"
   ]
  },
  {
   "cell_type": "code",
   "execution_count": 5,
   "id": "179ac222",
   "metadata": {},
   "outputs": [
    {
     "name": "stdout",
     "output_type": "stream",
     "text": [
      "{'resolution': (2, 3), 'dark_pixels': (3, 3, 2)}\n"
     ]
    }
   ],
   "source": [
    "image = np.array([[[250,   2,   2], [  0, 255,   2], [  0,   0, 255]], \\\n",
    "                  [[  2,   2,  20], [250, 255, 255], [127, 127, 127]]])\n",
    "\n",
    "statistics = a1.image_statistics(image, 10)\n",
    "\n",
    "print(statistics)"
   ]
  },
  {
   "cell_type": "markdown",
   "id": "08245a25",
   "metadata": {},
   "source": [
    "### Use a function to identify a portion (or extract) of an image based on a bounding box\n",
    "The bounding box is the (row, column) positions of the pixels at the top left and bottom right of the box. \n",
    "Particuparly, the bounding box is specified by the positions of two points - the top-left corner and the bottom-right corner. \n",
    "Each point is represented by its row and column positions in the image."
   ]
  },
  {
   "cell_type": "code",
   "execution_count": 6,
   "id": "3da2075e",
   "metadata": {},
   "outputs": [
    {
     "name": "stdout",
     "output_type": "stream",
     "text": [
      "[[[250   2   2]\n",
      "  [  0 255   2]]\n",
      "\n",
      " [[  2   2  20]\n",
      "  [250 255 255]]]\n"
     ]
    }
   ],
   "source": [
    "print(a1.bounding_box(image, (0, 0), (1, 1)))"
   ]
  },
  {
   "cell_type": "markdown",
   "id": "bfc4eb64",
   "metadata": {},
   "source": [
    "### Use the function build_deep_nn is designed to construct a deep neural network using the Keras library, based on specific specifications including hidden layers, hidden sizes, dropout rates:\n",
    "- We starts with a Flatten layer, which converts the input data from its 3D shape (rows, columns, channels) into a 1D vector.\n",
    "- Number of hidden layers (num_hidden): 1 to 3.\n",
    "- Size of the hidden layers. To simplify this assignment, assign the same size to all hidden layers.\n",
    "- Dropout rate of the final hidden layer. To simplify this exercise, set a dropout rate of zero for all hidden layers except the last one.\n",
    "\n",
    "We use the MNIST dataset to trains and evaluates the model."
   ]
  },
  {
   "cell_type": "code",
   "execution_count": 7,
   "id": "7ee9ec45",
   "metadata": {},
   "outputs": [],
   "source": [
    "import keras\n",
    "from keras.datasets import mnist\n",
    "from keras.models import Sequential\n",
    "from keras.layers import Dense, Dropout, Flatten\n",
    "from keras.layers import Conv2D, MaxPooling2D\n",
    "from keras import backend as K"
   ]
  },
  {
   "cell_type": "code",
   "execution_count": 8,
   "id": "d297858b",
   "metadata": {},
   "outputs": [],
   "source": [
    "(x_train, y_train), (x_test, y_test) = mnist.load_data()"
   ]
  },
  {
   "cell_type": "code",
   "execution_count": 9,
   "id": "1b5486a8",
   "metadata": {},
   "outputs": [],
   "source": [
    "# Normalize pixel values to be between 0 and 1\n",
    "x_train = x_train.astype('float32') / 255.0\n",
    "x_test = x_test.astype('float32') / 255.0\n",
    "\n",
    "# Reshape the data\n",
    "x_train = np.expand_dims(x_train, axis=-1)\n",
    "x_test = np.expand_dims(x_test, axis=-1)"
   ]
  },
  {
   "cell_type": "code",
   "execution_count": 10,
   "id": "4dc2ce50",
   "metadata": {},
   "outputs": [
    {
     "name": "stdout",
     "output_type": "stream",
     "text": [
      "Model: \"sequential\"\n",
      "_________________________________________________________________\n",
      " Layer (type)                Output Shape              Param #   \n",
      "=================================================================\n",
      " flatten (Flatten)           (None, 784)               0         \n",
      "                                                                 \n",
      " dense (Dense)               (None, 40)                31400     \n",
      "                                                                 \n",
      " dense_1 (Dense)             (None, 20)                820       \n",
      "                                                                 \n",
      " dropout (Dropout)           (None, 20)                0         \n",
      "                                                                 \n",
      " dense_2 (Dense)             (None, 10)                210       \n",
      "                                                                 \n",
      "=================================================================\n",
      "Total params: 32,430\n",
      "Trainable params: 32,430\n",
      "Non-trainable params: 0\n",
      "_________________________________________________________________\n",
      "Layer 1 activation: relu\n",
      "Layer 2 activation: relu\n",
      "Layer 3 activation: sigmoid\n"
     ]
    },
    {
     "name": "stderr",
     "output_type": "stream",
     "text": [
      "2024-03-08 18:29:54.220498: I tensorflow/core/platform/cpu_feature_guard.cc:193] This TensorFlow binary is optimized with oneAPI Deep Neural Network Library (oneDNN) to use the following CPU instructions in performance-critical operations:  SSE4.1 SSE4.2 AVX AVX2 FMA\n",
      "To enable them in other operations, rebuild TensorFlow with the appropriate compiler flags.\n"
     ]
    }
   ],
   "source": [
    "model = a1.build_deep_nn(28, 28, 1, 2, (40, 20), (0, 0.5), 10, 'sigmoid')\n",
    "model.summary()\n",
    "\n",
    "print(\"Layer 1 activation:\", model.layers[1].get_config()['activation'])\n",
    "print(\"Layer 2 activation:\", model.layers[2].get_config()['activation'])\n",
    "print(\"Layer 3 activation:\", model.layers[4].get_config()['activation'])"
   ]
  },
  {
   "cell_type": "code",
   "execution_count": 11,
   "id": "c237498f",
   "metadata": {},
   "outputs": [],
   "source": [
    "# Compile the model\n",
    "model.compile(optimizer='adam', loss='sparse_categorical_crossentropy', metrics=['accuracy'])"
   ]
  },
  {
   "cell_type": "code",
   "execution_count": 18,
   "id": "7486ad2c",
   "metadata": {},
   "outputs": [
    {
     "name": "stdout",
     "output_type": "stream",
     "text": [
      "Epoch 1/10\n",
      "469/469 [==============================] - 2s 4ms/step - loss: 0.3360 - accuracy: 0.8811 - val_loss: 0.1432 - val_accuracy: 0.9592\n",
      "Epoch 2/10\n",
      "469/469 [==============================] - 2s 4ms/step - loss: 0.3241 - accuracy: 0.8859 - val_loss: 0.1411 - val_accuracy: 0.9607\n",
      "Epoch 3/10\n",
      "469/469 [==============================] - 1s 3ms/step - loss: 0.3210 - accuracy: 0.8867 - val_loss: 0.1419 - val_accuracy: 0.9595\n",
      "Epoch 4/10\n",
      "469/469 [==============================] - 1s 3ms/step - loss: 0.3124 - accuracy: 0.8885 - val_loss: 0.1392 - val_accuracy: 0.9610\n",
      "Epoch 5/10\n",
      "469/469 [==============================] - 1s 3ms/step - loss: 0.3029 - accuracy: 0.8928 - val_loss: 0.1363 - val_accuracy: 0.9608\n",
      "Epoch 6/10\n",
      "469/469 [==============================] - 1s 3ms/step - loss: 0.2946 - accuracy: 0.8972 - val_loss: 0.1385 - val_accuracy: 0.9617\n",
      "Epoch 7/10\n",
      "469/469 [==============================] - 1s 3ms/step - loss: 0.2880 - accuracy: 0.8974 - val_loss: 0.1399 - val_accuracy: 0.9619\n",
      "Epoch 8/10\n",
      "469/469 [==============================] - 1s 3ms/step - loss: 0.2828 - accuracy: 0.8996 - val_loss: 0.1410 - val_accuracy: 0.9602\n",
      "Epoch 9/10\n",
      "469/469 [==============================] - 1s 3ms/step - loss: 0.2773 - accuracy: 0.9002 - val_loss: 0.1434 - val_accuracy: 0.9615\n",
      "Epoch 10/10\n",
      "469/469 [==============================] - 2s 4ms/step - loss: 0.2692 - accuracy: 0.9043 - val_loss: 0.1449 - val_accuracy: 0.9613\n"
     ]
    }
   ],
   "source": [
    "# Train the model\n",
    "history = model.fit(x_train, y_train, batch_size=128, epochs=10, validation_data=(x_test, y_test))"
   ]
  },
  {
   "cell_type": "code",
   "execution_count": 19,
   "id": "5a5bf730",
   "metadata": {
    "scrolled": false
   },
   "outputs": [
    {
     "data": {
      "image/png": "[encoded data removed]",
      "text/plain": [
       "<Figure size 1080x360 with 2 Axes>"
      ]
     },
     "metadata": {
      "needs_background": "light"
     },
     "output_type": "display_data"
    }
   ],
   "source": [
    "import matplotlib\n",
    "matplotlib.rcParams.update({'font.size': 20})\n",
    "def training_plot(metrics, history):\n",
    "    f, ax = plt.subplots(1, len(metrics), figsize=(15,5))\n",
    "    for idx, metric in enumerate(metrics):\n",
    "        ax[idx].plot(history.history[metric])\n",
    "        ax[idx].set_xlabel(\"Epochs\")\n",
    "        # ax[idx].set_ylabel(metric, fontweight='bold', fontsize=20)\n",
    "        ax[idx].plot(history.history['val_' + metric], ls='dashed');\n",
    "        ax[idx].legend([metric, 'val_' + metric], fontsize=20)\n",
    "training_plot(['loss', 'accuracy'], history);"
   ]
  },
  {
   "cell_type": "markdown",
   "id": "a3036bc7",
   "metadata": {},
   "source": [
    "The training model shows consistent improvement over the epochs, achieving high accuracy scores. The validation loss also remains relatively stable throughout training."
   ]
  },
  {
   "cell_type": "code",
   "execution_count": 13,
   "id": "439805fa",
   "metadata": {},
   "outputs": [
    {
     "name": "stdout",
     "output_type": "stream",
     "text": [
      "313/313 [==============================] - 1s 2ms/step - loss: 0.1429 - accuracy: 0.9587\n",
      "Test Loss: 0.1429113745689392\n",
      "Test Accuracy: 0.9587000012397766\n"
     ]
    }
   ],
   "source": [
    "# Evaluate the model on test data\n",
    "test_loss, test_accuracy = model.evaluate(x_test, y_test)\n",
    "\n",
    "print('Test Loss:', test_loss)\n",
    "print('Test Accuracy:', test_accuracy)"
   ]
  },
  {
   "cell_type": "markdown",
   "id": "8fa970bd",
   "metadata": {},
   "source": [
    "The accuracy scores of both training and test datasets are pretty high at 96.13% and 95.87% respectively, which suggests that the model is performing well and generalizing effectively to unseen data.\n",
    "\n",
    "The similar values of training and test loss indicate that the model is not overfitting, as the performance on the test data is consistent with the training data."
   ]
  },
  {
   "cell_type": "markdown",
   "id": "01bf6152",
   "metadata": {},
   "source": [
    "### Define the hyperparameters of the optimal model:\n",
    "\n",
    "We use 'keras_tuner' to determine the optimal values of two hyperparameters: number of hidden layers, dropout rate in the hidden layer and learning rates.\n"
   ]
  },
  {
   "cell_type": "code",
   "execution_count": 14,
   "id": "4b140b7e",
   "metadata": {},
   "outputs": [
    {
     "name": "stdout",
     "output_type": "stream",
     "text": [
      "Requirement already satisfied: keras-tuner[bayesian] in /opt/anaconda3/lib/python3.9/site-packages (1.4.7)\n",
      "Requirement already satisfied: keras in /opt/anaconda3/lib/python3.9/site-packages (from keras-tuner[bayesian]) (2.9.0)\n",
      "Requirement already satisfied: packaging in /opt/anaconda3/lib/python3.9/site-packages (from keras-tuner[bayesian]) (21.3)\n",
      "Requirement already satisfied: requests in /opt/anaconda3/lib/python3.9/site-packages (from keras-tuner[bayesian]) (2.27.1)\n",
      "Requirement already satisfied: kt-legacy in /opt/anaconda3/lib/python3.9/site-packages (from keras-tuner[bayesian]) (1.0.5)\n",
      "Requirement already satisfied: scikit-learn in /opt/anaconda3/lib/python3.9/site-packages (from keras-tuner[bayesian]) (1.0.2)\n",
      "Requirement already satisfied: scipy in /opt/anaconda3/lib/python3.9/site-packages (from keras-tuner[bayesian]) (1.7.3)\n",
      "Requirement already satisfied: pyparsing!=3.0.5,>=2.0.2 in /opt/anaconda3/lib/python3.9/site-packages (from packaging->keras-tuner[bayesian]) (3.0.4)\n",
      "Requirement already satisfied: urllib3<1.27,>=1.21.1 in /opt/anaconda3/lib/python3.9/site-packages (from requests->keras-tuner[bayesian]) (1.26.9)\n",
      "Requirement already satisfied: certifi>=2017.4.17 in /opt/anaconda3/lib/python3.9/site-packages (from requests->keras-tuner[bayesian]) (2024.2.2)\n",
      "Requirement already satisfied: charset-normalizer~=2.0.0 in /opt/anaconda3/lib/python3.9/site-packages (from requests->keras-tuner[bayesian]) (2.0.4)\n",
      "Requirement already satisfied: idna<4,>=2.5 in /opt/anaconda3/lib/python3.9/site-packages (from requests->keras-tuner[bayesian]) (3.3)\n",
      "Requirement already satisfied: numpy>=1.14.6 in /opt/anaconda3/lib/python3.9/site-packages (from scikit-learn->keras-tuner[bayesian]) (1.21.5)\n",
      "Requirement already satisfied: joblib>=0.11 in /opt/anaconda3/lib/python3.9/site-packages (from scikit-learn->keras-tuner[bayesian]) (1.1.0)\n",
      "Requirement already satisfied: threadpoolctl>=2.0.0 in /opt/anaconda3/lib/python3.9/site-packages (from scikit-learn->keras-tuner[bayesian]) (2.2.0)\n",
      "Note: you may need to restart the kernel to use updated packages.\n"
     ]
    }
   ],
   "source": [
    "pip install \"keras-tuner[bayesian]\""
   ]
  },
  {
   "cell_type": "code",
   "execution_count": 27,
   "id": "159ec291",
   "metadata": {},
   "outputs": [
    {
     "name": "stdout",
     "output_type": "stream",
     "text": [
      "Trial 10 Complete [00h 00m 45s]\n",
      "val_accuracy: 0.9666000008583069\n",
      "\n",
      "Best val_accuracy So Far: 0.98089998960495\n",
      "Total elapsed time: 00h 06m 01s\n",
      "Optimal number of units: {'units': 288, 'dropout': 0.0, 'learning_rate': 0.001}\n",
      "Model: \"sequential\"\n",
      "_________________________________________________________________\n",
      " Layer (type)                Output Shape              Param #   \n",
      "=================================================================\n",
      " flatten (Flatten)           (None, 784)               0         \n",
      "                                                                 \n",
      " dense (Dense)               (None, 288)               226080    \n",
      "                                                                 \n",
      " dropout (Dropout)           (None, 288)               0         \n",
      "                                                                 \n",
      " dense_1 (Dense)             (None, 10)                2890      \n",
      "                                                                 \n",
      "=================================================================\n",
      "Total params: 228,970\n",
      "Trainable params: 228,970\n",
      "Non-trainable params: 0\n",
      "_________________________________________________________________\n",
      "WARNING:tensorflow:Detecting that an object or model or tf.train.Checkpoint is being deleted with unrestored values. See the following logs for the specific values in question. To silence these warnings, use `status.expect_partial()`. See https://www.tensorflow.org/api_docs/python/tf/train/Checkpoint#restorefor details about the status object returned by the restore function.\n",
      "WARNING:tensorflow:Value in checkpoint could not be found in the restored object: (root).optimizer.iter\n",
      "WARNING:tensorflow:Value in checkpoint could not be found in the restored object: (root).optimizer.beta_1\n",
      "WARNING:tensorflow:Value in checkpoint could not be found in the restored object: (root).optimizer.beta_2\n",
      "WARNING:tensorflow:Value in checkpoint could not be found in the restored object: (root).optimizer.decay\n",
      "WARNING:tensorflow:Value in checkpoint could not be found in the restored object: (root).optimizer.learning_rate\n",
      "Optimal dropout rate: None\n"
     ]
    }
   ],
   "source": [
    "import kerastuner as kt\n",
    "from keras_tuner.tuners import BayesianOptimization\n",
    "\n",
    "\n",
    "def build_model(hp):\n",
    "    model = keras.Sequential()\n",
    "    model.add(keras.layers.Flatten(input_shape=(28, 28)))\n",
    "\n",
    "    # Tune the number of cells in the hidden layer\n",
    "    hp_units = hp.Int('units', min_value=32, max_value=512, step=32)\n",
    "    model.add(keras.layers.Dense(units=hp_units, activation='relu'))\n",
    "\n",
    "    # Tune the dropout rate\n",
    "    hp_dropout = hp.Float('dropout', min_value=0.0, max_value=0.5, step=0.1)\n",
    "    model.add(keras.layers.Dropout(rate=hp_dropout))\n",
    "\n",
    "    model.add(keras.layers.Dense(10, activation='softmax'))\n",
    "\n",
    "    # Tune the learning rate\n",
    "    hp_learning_rate = hp.Choice('learning_rate', values=[1e-2, 1e-3, 1e-4])\n",
    "\n",
    "    model.compile(optimizer=keras.optimizers.Adam(learning_rate=hp_learning_rate),\n",
    "                loss='sparse_categorical_crossentropy',\n",
    "                metrics=['accuracy'])\n",
    "\n",
    "    return model\n",
    "\n",
    "    \n",
    "tuner = kt.BayesianOptimization(\n",
    "    build_model,\n",
    "    objective=kt.Objective('val_accuracy', 'max'),\n",
    "    max_trials=10,\n",
    "    num_initial_points=2,\n",
    "    overwrite=True)\n",
    "\n",
    "tuner.search(x_train, y_train, epochs=5, validation_data=(x_test, y_test))\n",
    "    \n",
    "    \n",
    "topN = 1\n",
    "for x in range(topN):\n",
    "  print(f\"Optimal number of units: {tuner.get_best_hyperparameters(topN)[x].values}\")\n",
    "  print(f\"Optimal dropout rate: {tuner.get_best_models(topN)[x].summary()}\")     "
   ]
  },
  {
   "cell_type": "markdown",
   "id": "834caf42",
   "metadata": {},
   "source": [
    "The model achieved the best validation accuracy of 98.08%, with the optimal hyperparameters identified as below:\n",
    "- 288 units in the hidden layer\n",
    "- A dropout rate of 0.0\n",
    "- A learning rate of 0.001"
   ]
  },
  {
   "cell_type": "markdown",
   "id": "7da693ce",
   "metadata": {},
   "source": [
    "### The accuracy scores of the optimal model on the test set:"
   ]
  },
  {
   "cell_type": "code",
   "execution_count": 28,
   "id": "0dea918b",
   "metadata": {},
   "outputs": [
    {
     "name": "stdout",
     "output_type": "stream",
     "text": [
      "Epoch 1/5\n",
      "1875/1875 [==============================] - 6s 3ms/step - loss: 0.2247 - accuracy: 0.9342\n",
      "Epoch 2/5\n",
      "1875/1875 [==============================] - 6s 3ms/step - loss: 0.0947 - accuracy: 0.9724\n",
      "Epoch 3/5\n",
      "1875/1875 [==============================] - 6s 3ms/step - loss: 0.0620 - accuracy: 0.9812\n",
      "Epoch 4/5\n",
      "1875/1875 [==============================] - 6s 3ms/step - loss: 0.0435 - accuracy: 0.9862\n",
      "Epoch 5/5\n",
      "1875/1875 [==============================] - 6s 3ms/step - loss: 0.0326 - accuracy: 0.9892\n",
      "313/313 [==============================] - 1s 3ms/step - loss: 0.0648 - accuracy: 0.9801\n",
      "Test Accuracy: 0.9800999760627747\n"
     ]
    }
   ],
   "source": [
    "# Get the optimal hyperparameters\n",
    "best_hps = tuner.get_best_hyperparameters(num_trials=1)[0]\n",
    "\n",
    "# Build the model with optimal hyperparameters\n",
    "model = tuner.hypermodel.build(best_hps)\n",
    "\n",
    "# Train the model on the entire training data\n",
    "model.fit(x_train, y_train, epochs=5)\n",
    "\n",
    "# Evaluate the model on the test set\n",
    "test_loss, test_accuracy = model.evaluate(x_test, y_test)\n",
    "print(\"Test Accuracy:\", test_accuracy)"
   ]
  },
  {
   "cell_type": "markdown",
   "id": "a44e9718",
   "metadata": {},
   "source": [
    "The accuracy scores of the optimal model on the test set is improving across epochs and finally reaches 98.01% which was pretty high, indicating a good performance on unseen test data. "
   ]
  },
  {
   "cell_type": "code",
   "execution_count": null,
   "id": "e17f64f9",
   "metadata": {},
   "outputs": [],
   "source": [
    "End."
   ]
  }
 ],
 "metadata": {
  "kernelspec": {
   "display_name": "Python 3 (ipykernel)",
   "language": "python",
   "name": "python3"
  },
  "language_info": {
   "codemirror_mode": {
    "name": "ipython",
    "version": 3
   },
   "file_extension": ".py",
   "mimetype": "text/x-python",
   "name": "python",
   "nbconvert_exporter": "python",
   "pygments_lexer": "ipython3",
   "version": "3.9.12"
  }
 },
 "nbformat": 4,
 "nbformat_minor": 5
}
